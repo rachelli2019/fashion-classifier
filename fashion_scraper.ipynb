{
 "cells": [
  {
   "cell_type": "code",
   "execution_count": 18,
   "id": "a1aee964",
   "metadata": {},
   "outputs": [
    {
     "name": "stdout",
     "output_type": "stream",
     "text": [
      "112\n"
     ]
    }
   ],
   "source": [
    "import requests\n",
    "from bs4 import BeautifulSoup\n",
    "import os\n",
    "import urllib.request\n",
    "\n",
    "url = 'https://www.thereformation.com/dresses?page=7'\n",
    "brand = 'reformation'\n",
    "clothing_type = 'dress'\n",
    "class_label = \"tile-image tile-image-primary object-fit--cover lazyload\"\n",
    "headers = {'User-Agent': 'Mozilla/5.0'}\n",
    "\n",
    "response = requests.get(url, headers=headers)\n",
    "soup = BeautifulSoup(response.text, 'html.parser')\n",
    "\n",
    "# Find all image tags (you'll need to inspect this per site)\n",
    "img_tags = soup.find_all('img', class_ = class_label)\n",
    "print(len(img_tags))\n",
    "\n",
    "for i, tag in enumerate(img_tags):\n",
    "    try:\n",
    "        img_url = tag['src']\n",
    "        if not img_url.startswith('http'):\n",
    "            img_url = 'https://www.reformation.com' + img_url\n",
    "        product_name = tag['alt']\n",
    "\n",
    "        filename = f'./data/fashion/online_dataset/{brand}_{clothing_type}_{product_name}.jpg'\n",
    "        urllib.request.urlretrieve(img_url, filename)\n",
    "    except:\n",
    "        print(\"missed image\")"
   ]
  },
  {
   "cell_type": "code",
   "execution_count": null,
   "id": "b66e45ed",
   "metadata": {},
   "outputs": [],
   "source": []
  }
 ],
 "metadata": {
  "kernelspec": {
   "display_name": "Python 3",
   "language": "python",
   "name": "python3"
  },
  "language_info": {
   "codemirror_mode": {
    "name": "ipython",
    "version": 3
   },
   "file_extension": ".py",
   "mimetype": "text/x-python",
   "name": "python",
   "nbconvert_exporter": "python",
   "pygments_lexer": "ipython3",
   "version": "3.7.6"
  }
 },
 "nbformat": 4,
 "nbformat_minor": 5
}
